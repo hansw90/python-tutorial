{
 "cells": [
  {
   "cell_type": "markdown",
   "metadata": {},
   "source": [
    "# Effective Python -3. byte, str, unicode의 차이점\n",
    "\n",
    "\n",
    "### 3. bytes, str, unicode의 차이점을 알아보자\n",
    "    - 파이썬 3의 문자타입\n",
    "        - bytes : raw 8 bit\n",
    "        - str : unicode 문자\n",
    "    - 파이썬 2의 문자타입\n",
    "        - str : raw 8 bit\n",
    "        - unicode : unicode 문자\n",
    "    - 유니코드 문자를 바이너리 데이터 (raw 8 bit)로 표현하는 방법은 많음(ex : UTF-8)\n",
    "    - 중요한 것은 파이썬 3의 STR 인스턴스와 파이썬 2의 인스턴스 연관된 바이너리 인코딩이 없다는 것입니다.\n",
    "        - unicode -> binary data : encode method\n",
    "        - binary data -> unicode : decode method\n",
    "    - 파이썬 프로그래밍을 할때 외부에 제공할 인터페이스에는 유니코드를 인코드하고 디코드 해야합니다\n",
    "    - 프로그램의 핵심 부분에서는 유니코드 문자 타입을 사용합니다\n",
    "        - 문자 인코딩에 대해서는 어떤 가정도 하지 말아야 함\n",
    "    - 출력 텐스트 인코딩 (이상적으로는 UTF-8)을 엄격하게 유지하면서 다른 텍스트 인코딩 수용 가능\n",
    "    \n",
    "    - 문자 타입이 분리되어 있는 탓에 파이썬 코드에서 일반적으로 다음 두 가지 상황에 부딪힘\n",
    "        - UTF-8 (or 다른 이코딩)으로 인코딩된 문자인 raw 8 bit 값을 처리하려는 상황\n",
    "        - 인코딩이 없는 유니코드 문자를 처리하려는 상황\n",
    "    - 이 두경우 사이에서 변환하고 코드에서 원하는 타입과 입력값의 타입이 정확히 일치하게 하려면 헬퍼 함수 두개가 필요합니다\n",
    "        - 파이썬 3\n",
    "            먼저 str 이나 byte를 입력으로 받고 str 을 반환하는 메서드가 필요하다"
   ]
  },
  {
   "cell_type": "code",
   "execution_count": 4,
   "metadata": {},
   "outputs": [
    {
     "name": "stdout",
     "output_type": "stream",
     "text": [
      "asgasdg\n",
      "<class 'str'>\n",
      "<class 'str'>\n"
     ]
    }
   ],
   "source": [
    "# 파이썬 3\n",
    "def to_str(bytes_or_str) :\n",
    "    if isinstance(bytes_or_str, bytes) :\n",
    "        value = bytes_or_str.decode('utf-8')\n",
    "    else :\n",
    "        value = bytes_or_str\n",
    "    return value # str 인스턴스\n",
    "\n",
    "aa = u\"asgasdg\"\n",
    "print(aa)\n",
    "print(type(aa))\n",
    "bb = to_str(aa)\n",
    "print(type(bb))"
   ]
  },
  {
   "cell_type": "code",
   "execution_count": 6,
   "metadata": {},
   "outputs": [
    {
     "name": "stdout",
     "output_type": "stream",
     "text": [
      "asgasdg\n",
      "<class 'str'>\n",
      "<class 'bytes'>\n"
     ]
    }
   ],
   "source": [
    "- `str` or `bytes` 를 받아 `bytes` 반환하는 메서드 필요\n",
    "\n",
    "def to_bytes(bytes_or_str):\n",
    "    if isinstance(bytes_or_str, str):\n",
    "        value = bytes_or_str.encode('utf-8')\n",
    "    else:\n",
    "        value = bytes_or_str\n",
    "    return value # bytes 인스턴스\n",
    "\n",
    "# 'str' or 'bytes' 를 받아 'bytes' 반환하는 메서드 필요\n",
    "\n",
    "aa = u\"asgasdg\"\n",
    "print(aa)\n",
    "print(type(aa))\n",
    "bb = to_bytes(aa)\n",
    "print(type(bb))"
   ]
  },
  {
   "cell_type": "markdown",
   "metadata": {},
   "source": [
    "## 파이썬의 문자열 인코딩\n",
    "\n",
    "\n",
    "### 문자와 인코딩\n",
    "\n",
    "파이썬 뿐 아니라 모든 컴퓨터에서 문자는 2진 숫자의 열 즉, 바이트 열(byte sequence)로 바뀌어 저장된다. 이를 인코딩 (encoding_)이라고 하며 어떤 글자를 어떤 숫자로 바꿀지에 대한 규칙을 인코딩 방식이라고 한다.  \n",
    "\n",
    "가장 기본이 되는 인코딩 방식은 ASCII 방식이다.  \n",
    "\n",
    "한글의 경우 과거에는 EUC-KR 방식이 많이 사용되기도 했으나 최근에는 CP949 방식이 더 많이 사용된다.  \n",
    "\n",
    "### 유니코드\n",
    "\n",
    "인코딩 방식이 글자마다 혹은 회사마다 다르기 때문에 발생하는 문제를 해결하고자 유니코드라는 것이 만들어졌다. 유니코드에서는 다음과 같은 표준을 정했다.  \n",
    "    - 유니코드 코드 포인트 (unicode code point)\n",
    "    - 유니코드 인코딩 (UTF-8, UTF-16, UTF-32...)\n",
    "    \n",
    "유니코드 코드 포인트(code point) 또는 코드 포지션(code position)은 최대 4바이트의 숫자로 전 세계 모든 글자를 대응시킨 것이다. 파이썬 내부에서 문자를 메모리에 저장할 때 기본적으로는 유니코드 코드 포인트를 사용한다.  \n",
    "( 파이썬 3.3 부터는 PEP 393애 의해 선택적으로 아스키 코드를 사용할 수 있다.)  \n",
    "\n",
    "유니코드 인코딩은 실제로 유니코드 문자를 바이트 열로 바꾸어 파일 등에 저장할 때 사용되는 방식으로 영문 알파벳에 대해 ASCII 인코딩 방식과 호환하며 크기, 정렬 등의 문제를 고려하여 설계되었다. 과거의 EUC-KR, CPC949 등은 한글이라는 문자에 대해 저장할 값을 지정하는 방식이지만, 유니코드 인코딩 방식은 유니코드 코드 포인트에 대해 저장할 값을 지정하는 방식이므로 유니코드 코드 포인트를 가지는 모든 글자를 하나의 방식으로 저장할 수 있다. UTF-8 은 현재 가장 많이 사용되는 유니코드 인코딩 방식중 하나이다.\n",
    "\n",
    "### 파이썬의 문자열 자료형\n"
   ]
  }
 ],
 "metadata": {
  "kernelspec": {
   "display_name": "Python 3",
   "language": "python",
   "name": "python3"
  },
  "language_info": {
   "codemirror_mode": {
    "name": "ipython",
    "version": 3
   },
   "file_extension": ".py",
   "mimetype": "text/x-python",
   "name": "python",
   "nbconvert_exporter": "python",
   "pygments_lexer": "ipython3",
   "version": "3.7.4"
  }
 },
 "nbformat": 4,
 "nbformat_minor": 2
}
