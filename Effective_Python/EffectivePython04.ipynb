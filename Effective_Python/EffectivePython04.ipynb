{
 "cells": [
  {
   "cell_type": "markdown",
   "metadata": {},
   "source": [
    "# Effective Python -4. 복잡한 표현식 대신 헬퍼 함수를 작성하자 \n",
    "\n",
    "\n",
    "### 헬퍼함수를 사용하지 않는 경우\n",
    "    - 파이썬의 간결한 문법을 이용하면 많은 로직을 표현식 한줄로 쉽게 작성 가능하다."
   ]
  },
  {
   "cell_type": "code",
   "execution_count": 13,
   "metadata": {},
   "outputs": [
    {
     "name": "stdout",
     "output_type": "stream",
     "text": [
      "{'red': ['5'], 'blue': ['0'], 'green': ['']}\n",
      "{'red': ['5'], 'blue': ['0'], 'green': ['']}\n"
     ]
    }
   ],
   "source": [
    "from urllib.parse import parse_qs\n",
    "\n",
    "my_values = parse_qs('red=5&blue=0&green=', keep_blank_values=True)\n",
    "#parse_qs : 쿼리 스트링(Query String 다루기)\n",
    "print(my_values)\n",
    "\n",
    "print(repr(my_values))\n",
    "#repr() vs str()\n",
    "#repr : 시스템이 해당 객체를 인식할 수 있는 공식적인 문자열로 나타낼때 ㅐ사용\n",
    "# str : 사용자가 보기 쉬운 형태로 보여줄 때 사용하는 것\n"
   ]
  },
  {
   "cell_type": "markdown",
   "metadata": {},
   "source": [
    "    - 쿼리 문자열 파라미터에 따라 값이 여러개, 한개일 수 있고, 파라미터는 존재하지만 값x 혹은 파라미터 x\n",
    "    - 결과 딕셔너리에 get메서드를 사용하면 각 상황에 따라 다른 값을 반환 할 것"
   ]
  },
  {
   "cell_type": "code",
   "execution_count": 9,
   "metadata": {},
   "outputs": [
    {
     "name": "stdout",
     "output_type": "stream",
     "text": [
      "Red:     ['5']\n",
      "Green:     ['']\n",
      "Opacity:     None\n"
     ]
    }
   ],
   "source": [
    "print('Red:    ', my_values.get('red'))\n",
    "print('Green:    ', my_values.get('green'))\n",
    "print('Opacity:    ', my_values.get('opacity'))"
   ]
  },
  {
   "cell_type": "markdown",
   "metadata": {},
   "source": [
    "    - 이때 파라미터가 없거나 비어 있으면 기본값으로 0을 할당하게 해보자\n",
    "    - 사용하는 트릭은 빈 문자열, 빈 리스트, 0이 모두 암시적으로 False로 평가되는 것"
   ]
  },
  {
   "cell_type": "code",
   "execution_count": 11,
   "metadata": {},
   "outputs": [
    {
     "name": "stdout",
     "output_type": "stream",
     "text": [
      "Red:       '5'\n",
      "Green:     0\n",
      "Opacitry:  0\n"
     ]
    }
   ],
   "source": [
    "red = my_values.get('red', [''])[0] or 0\n",
    "green = my_values.get('green', [''])[0] or 0\n",
    "opacity = my_values.get('opacity', [''])[0] or 0\n",
    "print('Red:       %r' % red)\n",
    "print('Green:     %r' % green)\n",
    "print('Opacitry:  %r' % opacity)"
   ]
  },
  {
   "cell_type": "markdown",
   "metadata": {},
   "source": [
    "    - 위 코드의 red, green, opacity 표현식에서 첫 번째 서브 표현식이 False 일때 or 연사자 뒤에 오는 서브 표현식을 평가한 값이 결과가 된다.  \n",
    "        red : 키값이 my_values 딕셔너리에 존재 \n",
    "               -> 값은 멤버 하나만 있는 list \n",
    "               -> 이 문자열은 True \n",
    "               -> red는 or 의 첫 번째 부분을 할당받음\n",
    "        green : 키값이 my_values 딕셔너리에 존재 \n",
    "               -> 빈 문자열인 list \n",
    "               -> 암시적으로 ‘False’ \n",
    "               -> or 의 결과는 0\n",
    "        opacity : 키 값이 없음 \n",
    "               -> get 메서드는 키가 딕셔너리에 없으면 두 번째 인수를 반환(기본값은 빈 문자열) \n",
    "               -> green과 똑같이 동작"
   ]
  },
  {
   "cell_type": "code",
   "execution_count": 15,
   "metadata": {},
   "outputs": [
    {
     "data": {
      "text/plain": [
       "5"
      ]
     },
     "execution_count": 15,
     "metadata": {},
     "output_type": "execute_result"
    }
   ],
   "source": [
    "red = int(my_values.get('red', [''])[0] or 0)\n",
    "red"
   ]
  },
  {
   "cell_type": "markdown",
   "metadata": {},
   "source": [
    "위식도 딱히 편하지가 않다  \n",
    "if/else 조건 삼항 표현식 사용해보자 !"
   ]
  },
  {
   "cell_type": "code",
   "execution_count": 21,
   "metadata": {},
   "outputs": [
    {
     "name": "stdout",
     "output_type": "stream",
     "text": [
      "['5']\n",
      "['5']\n",
      "5\n"
     ]
    }
   ],
   "source": [
    "red = my_values.get('red')\n",
    "print(red)\n",
    "red = my_values.get('red',['']) #위것과 모가 다른거냐?\n",
    "print(red)\n",
    "\n",
    "red = int(red[0]) if red[0] else 0\n",
    "print(red)"
   ]
  },
  {
   "cell_type": "markdown",
   "metadata": {},
   "source": [
    "그래도 어렵,,,,"
   ]
  },
  {
   "cell_type": "code",
   "execution_count": 24,
   "metadata": {},
   "outputs": [
    {
     "name": "stdout",
     "output_type": "stream",
     "text": [
      "0\n"
     ]
    }
   ],
   "source": [
    "green = my_values.get('green', [''])\n",
    "if green[0]:\n",
    "    green = int(green[0])\n",
    "else:\n",
    "    green = 0\n",
    "    \n",
    "print(green)"
   ]
  },
  {
   "cell_type": "markdown",
   "metadata": {},
   "source": [
    "음 ,, 보기는 좋긴한데,, \n",
    "\n",
    "### 헬퍼함수를 사용해보자 !!\n",
    "\n",
    "    - 위와 같은 로직을 반복해서 써야한다면 헬퍼 함수를 만들자!"
   ]
  },
  {
   "cell_type": "code",
   "execution_count": 27,
   "metadata": {},
   "outputs": [
    {
     "name": "stdout",
     "output_type": "stream",
     "text": [
      "0\n"
     ]
    }
   ],
   "source": [
    "def get_first_int(values, key, default=0) :\n",
    "    found = values.get(key, [''])\n",
    "    if found[0] :\n",
    "        found = int(found[0])\n",
    "    else :\n",
    "        found = default\n",
    "    return found\n",
    "\n",
    "\n",
    "green = get_first_int(my_values, 'green')\n",
    "print(green)"
   ]
  },
  {
   "cell_type": "markdown",
   "metadata": {},
   "source": [
    "    - 표현식이 복잡해지기 시작하면\n",
    "        - 최대한 빨리 해당 표현식을 작은 조각으로 분할\n",
    "        - 로직을 헬퍼 함수로 옮기는 방안 고려\n",
    "    - 무조건 짧은 코드를 만들기 보다는 가독성을 선택하는 편이 좋다"
   ]
  },
  {
   "cell_type": "markdown",
   "metadata": {},
   "source": [
    "### 핵심 정리\n",
    "- 파이썬의 문법을 이용하면 한 줄짜리 표현식을 쉽게 작성할 수 있지만 코드가 복잡해지고 읽기 어려워진다\n",
    "- 복잡한 표현식은 헬퍼 함수로 옮기는 게 좋다. 특히, 같은 로직을 반복해서 사용해야 한다면 헬퍼 함수를 사용하자.\n",
    "- if/else 표현식을 이용하면 or나 and 같은 bool 연산자를 사용할 때보다 읽기 수월한 코드 작성 가능"
   ]
  },
  {
   "cell_type": "code",
   "execution_count": null,
   "metadata": {},
   "outputs": [],
   "source": []
  }
 ],
 "metadata": {
  "kernelspec": {
   "display_name": "Python 3",
   "language": "python",
   "name": "python3"
  },
  "language_info": {
   "codemirror_mode": {
    "name": "ipython",
    "version": 3
   },
   "file_extension": ".py",
   "mimetype": "text/x-python",
   "name": "python",
   "nbconvert_exporter": "python",
   "pygments_lexer": "ipython3",
   "version": "3.7.4"
  }
 },
 "nbformat": 4,
 "nbformat_minor": 2
}
