{
 "cells": [
  {
   "cell_type": "markdown",
   "metadata": {},
   "source": [
    "# Effective Python - 2. PEP 8 스타일 가이드를 따르자\n",
    "\n",
    "### 2. PEP 8 스타일 가이드를 따르자\n",
    "    - Python Enhancement Proposla #8, PEP8은 파이썬 코드의 스타일 가이드\n",
    "        - 문법만 지킨다면 어떻게 코딩하던 에러는 발생 하지 않는다\n",
    "        - 하지만 일관성 있는 스타일을 사용한다면\n",
    "            - 유지보수가 쉬워지고\n",
    "            - 가독성이 높아지고\n",
    "            - 프로젝트에서의 협업도가 상승한다\n",
    "        - 파이썬의 진화에 따라 PEP8 도 지속적으로 업데이트 되는중이다\n",
    "\n",
    "##### 화이트 스페이스\n",
    "\n",
    "    - 파이썬에서 공백은 문법적으로 의미가 있다. 그러므로 영향에 민감한 편이다\n",
    "    - 탭이 아닌 스페이스로 들여쓴다 (vim 이나 ide에서 tab 누르면 4space로 되도록 설정 가능)\n",
    "    - 문법적으로 의미있는 들여쓰기는 각 수준마다 스페이스 네 개 사용한다\n",
    "    - 한줄의 문자길이가 79자 이하여야한다\n",
    "    - 표현식이 길어서 다음 줄로 이어지면 일반적인 들여쓰기 수준에 추가로 스페이스 네개를 사용한다\n",
    "    - 파일에서 함수와 클랫는 빈 줄 두개로 구분해야 한다\n",
    "    - 클래스에서 메서드는 빈줄 하나로 구분한다\n",
    "    - 리스트 인덱스, 함수호출, 키워드 인수 할당에는 스페이스를 사용하지 않는다\n"
   ]
  },
  {
   "cell_type": "code",
   "execution_count": 1,
   "metadata": {},
   "outputs": [
    {
     "ename": "NameError",
     "evalue": "name 'a' is not defined",
     "output_type": "error",
     "traceback": [
      "\u001b[1;31m---------------------------------------------------------------------------\u001b[0m",
      "\u001b[1;31mNameError\u001b[0m                                 Traceback (most recent call last)",
      "\u001b[1;32m<ipython-input-1-3b99ccaa5c1f>\u001b[0m in \u001b[0;36m<module>\u001b[1;34m\u001b[0m\n\u001b[0;32m      1\u001b[0m \u001b[1;31m# ex) 리스트 인덱스, 함수호출, 키워드 인수 할당에는 스페이스를 사용하지 않는다\u001b[0m\u001b[1;33m\u001b[0m\u001b[1;33m\u001b[0m\u001b[1;33m\u001b[0m\u001b[0m\n\u001b[1;32m----> 2\u001b[1;33m \u001b[0ma\u001b[0m\u001b[1;33m[\u001b[0m\u001b[1;36m0\u001b[0m\u001b[1;33m:\u001b[0m\u001b[1;36m10\u001b[0m\u001b[1;33m]\u001b[0m \u001b[1;31m# a는 리스트, 리스트 인덱싱시 : 양 옆에 no space\u001b[0m\u001b[1;33m\u001b[0m\u001b[1;33m\u001b[0m\u001b[0m\n\u001b[0m\u001b[0;32m      3\u001b[0m \u001b[0mfoo\u001b[0m \u001b[1;33m=\u001b[0m \u001b[0mbar\u001b[0m\u001b[1;33m(\u001b[0m\u001b[0mfoo\u001b[0m\u001b[1;33m=\u001b[0m\u001b[0mbar\u001b[0m\u001b[1;33m)\u001b[0m \u001b[1;31m# 키워드 인수 할당, 함수호출\u001b[0m\u001b[1;33m\u001b[0m\u001b[1;33m\u001b[0m\u001b[0m\n",
      "\u001b[1;31mNameError\u001b[0m: name 'a' is not defined"
     ]
    }
   ],
   "source": [
    "# ex) 리스트 인덱스, 함수호출, 키워드 인수 할당에는 스페이스를 사용하지 않는다\n",
    "a[0:10] # a는 리스트, 리스트 인덱싱시 : 양 옆에 no space\n",
    "foo = bar(foo=bar) # 키워드 인수 할당, 함수호출"
   ]
  },
  {
   "cell_type": "markdown",
   "metadata": {},
   "source": [
    "#### naming\n",
    "\n",
    "    - PEP8 은 언어의 부분별로 독자적인 명명 스타일을 제안, 각 이름에 대응하는 타임 구별이 쉬워졌다\n",
    "\n",
    "    - 함수, 변수, 속성은 lowercas_underscore 형식을 따른다\n",
    "    - protected 인스턴스 속성은 _leading_underscore 형식을 따른다\n",
    "        ( protected : getter and setter로 함부로 값을 조회하거나 바꿀수 없도록 보호해 놓은, 같은 클래스, 패키지, 자손클래스에서만 접근 가능 인스턴스 속성\n",
    "    - private 인스턴스 속성은 _double_leading_underscore 형식을 따름\n",
    "        ( private : 같은 클랫 내에서 접근 가능 )\n",
    "    - 클래스와 예외는 CapitalizeWord 형식을 따름\n",
    "    - 모듈 수준 상수는 App_CAPS 형식을 따름\n",
    "    - 클래스 인스턴스 메서드에서는 첫 번째 파라미터(해당 객체를 참조)의 이름을 self로 지정\n",
    "    - 클래스의 메서드에서는 첫 번째 파라미터(해당 클래스를 참조)의 이름을 cls로 지정\n",
    "        (클래스 메서드, 인스턴스 메서드 : 인스턴스 메서드의 경우는 그 메서드를 실행한 인스턴스에만 영향을 미치지만, 클래스 메서드를 사용하면 그 클래스로 인해 만들어진 모든 인스턴스에 영향이 간다.)\n",
    "\n",
    "\n",
    "#### 표현식과 문장\n",
    "    - 파이썬의 계명에는 \"어떤 일을 하는 확실한 방법이 (될 수 있으면 하나만) 있어야한다\" 라는 말이 있다\n",
    "    - PEP8은 표현식과 문장의 본보기로 이 스타일을 정리한다\n",
    "    - 긍정 표현식의 부정 (if not a is b) 대신에 인라인 부정 (if a is not b)를 사용한다\n",
    "    - 길이를 확일할 때 == 를 사용안하고, 빈값은 암시적으로 False 가 된다고 가정,\n",
    "        - if len(list) == 0 대신 if not somelist 을 사용,\n",
    "        - 값이 비어있지 않으면 True가 됨"
   ]
  },
  {
   "cell_type": "code",
   "execution_count": 11,
   "metadata": {},
   "outputs": [
    {
     "name": "stdout",
     "output_type": "stream",
     "text": [
      "<class 'list'>\n",
      "0\n"
     ]
    }
   ],
   "source": [
    "# if len(list) == 0 대신 if not somelist 을 사용,\n",
    "a = []\n",
    "print(type(a))\n",
    "\n",
    "if not a :\n",
    "    print(len(a)) #비어있으면 실행"
   ]
  },
  {
   "cell_type": "markdown",
   "metadata": {},
   "source": [
    "    - 한줄로 된 if문, for와 while loop, except 복합문 을 쓰면 안된다\n",
    "         - 여러줄로 나누어 명료하게 작성한다\n",
    "    - 항상 파일의 맨 위에 import\n",
    "    - 모듈을 import할 때는 모듈의 절대이름을 사용한다\n",
    "        - 현재 모듈 경로를 기중으로 상대경로 x\n",
    "        - bar 패키지의 foo 모듈을 import 하려면\n",
    "        import foo 가 아닌 from bar import foo 와 같이 사용 해야한다\n",
    "    - 상대적인 임포트를 해야 한다면 명시적인 구문 사용 from . import foo\n",
    "    - import는 표준 라이브러리 모듈 > 서드파티 모듈 > 자신이 만든 모듈순으로 구분한다\n",
    "        ( 서드파티 모듈 : Python과 함께 제공되는 기본적인 라이브러리 모듈 외에 많은 개발자가 Python을 더 광범위하게 사용할 수 있도록 독자적인 모듈을 개발해왔다. )"
   ]
  },
  {
   "cell_type": "markdown",
   "metadata": {},
   "source": [
    "## 핵심정리\n",
    "    - 파이썬 코드를 작성할 때 항상 PEP 8 스타일 가이드를 따르자\n",
    "    - 큰 파이썬 커뮤니티에서 다른 사람과 원활하게 협업하려면 공통된 스타일을 공유해야 한다.\n",
    "    - 일관성 있는 스타일로 작성하면 나중에 자신의 코드를 더 쉽게 수정할 수 있다."
   ]
  },
  {
   "cell_type": "code",
   "execution_count": null,
   "metadata": {},
   "outputs": [],
   "source": []
  }
 ],
 "metadata": {
  "kernelspec": {
   "display_name": "Python 3",
   "language": "python",
   "name": "python3"
  },
  "language_info": {
   "codemirror_mode": {
    "name": "ipython",
    "version": 3
   },
   "file_extension": ".py",
   "mimetype": "text/x-python",
   "name": "python",
   "nbconvert_exporter": "python",
   "pygments_lexer": "ipython3",
   "version": "3.7.4"
  }
 },
 "nbformat": 4,
 "nbformat_minor": 2
}
