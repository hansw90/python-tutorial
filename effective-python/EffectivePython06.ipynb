{
 "cells": [
  {
   "cell_type": "markdown",
   "metadata": {},
   "source": [
    "# Effective Python -6. 한 슬라이스에 start, end, stride를 함께 쓰지 말자\n",
    "\n",
    "- somelist[start:end:stride] 처럼 슬라이스의 (간격)를 설정하는 문법이 있다.\n",
    "    - 시퀀스를 슬라이스 할 때, 매 n번째 아이템을 가져올 수 있음"
   ]
  },
  {
   "cell_type": "code",
   "execution_count": 1,
   "metadata": {},
   "outputs": [
    {
     "name": "stdout",
     "output_type": "stream",
     "text": [
      "['red', 'yellow', 'blue']\n",
      "['orange', 'green', 'purple']\n"
     ]
    }
   ],
   "source": [
    "a = ['red', 'orange', 'yellow', 'green', 'blue', 'purple']\n",
    "odds = a[::2]\n",
    "evens = a[1::2]\n",
    "print(odds)\n",
    "print(evens)"
   ]
  },
  {
   "cell_type": "markdown",
   "metadata": {},
   "source": [
    "- 문제는 stride 문법이 종종 예상치 못한 동작을 해서 버그를 만들어내기도 하는 것\n",
    "    - ex: 파이썬에서 바이트 문자열을 역순으로 만드는 일반적인 방법은 스트라이드 -1로 문자열을 슬라이스하는 것"
   ]
  },
  {
   "cell_type": "code",
   "execution_count": 2,
   "metadata": {},
   "outputs": [
    {
     "name": "stdout",
     "output_type": "stream",
     "text": [
      "b'esoognom'\n"
     ]
    }
   ],
   "source": [
    "x = b'mongoose'\n",
    "y = x[::-1]\n",
    "print(y)"
   ]
  },
  {
   "cell_type": "markdown",
   "metadata": {},
   "source": [
    "- 위의 코드는 바이트 문자열이나 아스키 문자에는 잘 동작하지만, utf-8 바이트 문자열로 인코드된 유니코드 문자에는 원하는 대로 동작하지 않음"
   ]
  },
  {
   "cell_type": "code",
   "execution_count": 6,
   "metadata": {},
   "outputs": [
    {
     "name": "stdout",
     "output_type": "stream",
     "text": [
      "b'\\xa3\\xad\\xe6\\xa3\\xad\\xe6'\n"
     ]
    }
   ],
   "source": [
    "w = '正正'\n",
    "x = w.encode('utf-8')\n",
    "y = x[::-1]\n",
    "print(y)\n",
    "# z = y.decode('utf-8')\n",
    "# UnicodeDecodeError: 'utf-8' codec can`t decode byte 0x9d in position 0: invalid start byte"
   ]
  },
  {
   "cell_type": "markdown",
   "metadata": {},
   "source": [
    "- stride를 사용하면 리스트 내의 인수를 다양하게 뽑아낼 수 있지만 문제가 있습니다.\n",
    "- 슬라이싱 문법의 stride 부분이 매우 혼란스러울 수 있습니다.\n",
    "    - 대괄호 안에 숫자가 세 개나 있으면 빽빽해서 읽기 어려움, 그래서 start와 end 인덱스가 stride와 연계되어 어떤 작용을하는지 불분명\n",
    "    - 특히 stride가 음수인 경우는 더욱 심각합니다.\n",
    "- stride 를 사용해야 한다면 양수값을 사용하고, start와 end 인덱스는 생략하자\n",
    "- stride 를 꼭 start나 end 인덱스와 함께 사용해야 한다면\n",
    "    - stride를 적용한 결과를 변수에 할당하고, 이 변수를 슬라이스한 결과를 다른 변수에 할당해서 사용한다\n",
    "    "
   ]
  },
  {
   "cell_type": "code",
   "execution_count": 17,
   "metadata": {},
   "outputs": [
    {
     "name": "stdout",
     "output_type": "stream",
     "text": [
      "['red', 'yellow', 'blue']\n",
      "['yellow']\n"
     ]
    }
   ],
   "source": [
    "b = a[::2]\n",
    "print(b)\n",
    "c = b[1:-1]\n",
    "print(c)"
   ]
  },
  {
   "cell_type": "markdown",
   "metadata": {},
   "source": [
    "- 슬라이싱부터 하고 스트라이딩을 하면 데이터의 얕은 복사본이 추가로 생긴다.\n",
    "    - 첫 번째 연산은 결과로 나오는 슬라이스의 크기를 최대한 줄여야함 ( 보통 stride가 1/n 크기로 리스트를 줄이므로 먼저 쓰자 )\n",
    "    - 시간과 메모리가 충분하지 않다면 내장 모듈 itertools의 islice 메서드를 사용\n",
    "    - islice 메서드는 start, end, stride에 음수값을 허용하지 않음"
   ]
  },
  {
   "cell_type": "code",
   "execution_count": null,
   "metadata": {},
   "outputs": [],
   "source": []
  }
 ],
 "metadata": {
  "kernelspec": {
   "display_name": "Python 3",
   "language": "python",
   "name": "python3"
  },
  "language_info": {
   "codemirror_mode": {
    "name": "ipython",
    "version": 3
   },
   "file_extension": ".py",
   "mimetype": "text/x-python",
   "name": "python",
   "nbconvert_exporter": "python",
   "pygments_lexer": "ipython3",
   "version": "3.7.4"
  }
 },
 "nbformat": 4,
 "nbformat_minor": 2
}
