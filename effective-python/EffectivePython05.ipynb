{
 "cells": [
  {
   "cell_type": "markdown",
   "metadata": {},
   "source": [
    "# Efffective Python -5. 시퀀스를 슬라이스 하는 방법\n",
    "\n",
    "- 파이썬은 시퀀스를 슬라이스해서 조각으로 만드는 문법을 제공합니다\n",
    "    - 슬라이싱 대상 : list,str,bytes...\n",
    "    - __getitem__, __setitem__ 매직메서드를 구현하는 클래스에서도 슬라이싱 적용 가능\n",
    "- 기본형태 :somelist[start:end]\n",
    "    - start 인덱스는 포함, end 인덱스는 제외"
   ]
  },
  {
   "cell_type": "code",
   "execution_count": 3,
   "metadata": {},
   "outputs": [
    {
     "name": "stdout",
     "output_type": "stream",
     "text": [
      "First four: ['a', 'b', 'c', 'd']\n",
      "Last four:  ['e', 'f', 'g', 'h']\n",
      "Middle two: ['d', 'e']\n",
      "Middle two: ['d', 'e', 'f']\n",
      "Middle two: ['d', 'e', 'f', 'g']\n"
     ]
    }
   ],
   "source": [
    "a = ['a', 'b', 'c', 'd', 'e', 'f', 'g', 'h']\n",
    "print('First four:', a[:4])\n",
    "print('Last four: ', a[4:])\n",
    "print('Middle two:', a[3:-3])\n",
    "print('Middle two:', a[3:-2])\n",
    "print('Middle two:', a[3:-1])"
   ]
  },
  {
   "cell_type": "markdown",
   "metadata": {},
   "source": [
    "- 리스트 처음부터 슬라이스 할 때는 인덱스 0 생략\n",
    "    - assert a[:5] == a[0:5]\n",
    "- 리스트 끝까지 슬라이스 할 때도 마지막 인덱스 생략\n",
    "    - assert a[5:] == a[5:len(a)]\n",
    "- 리스트 끝을 기준으로 오프셋을 계산할 때는 음수로 계산 하는 것이 편함\n",
    "    - note: 리스트의 인덱스를 음수 변수로 지정하면 슬라이싱으로 뜻밖의 결과를 얻는 몇 가지 상황 중 하나가 발생하니 주의해야 함. (ex: somelist[-n:]이라는 구문은 n>1일때는 정상 작동하지만, n=0일때 somelist[-0:] 이되면 원본 리스트의 복사본을 만듬)\n",
    "- 슬라이싱은 start와 end 인덱스가 리스트의 경계를 벗어나도 적절하게 처리\n",
    "    - 하지만 리스트의 경계를 벗어난 인덱스를 직접 접근하면 예외가 발생"
   ]
  },
  {
   "cell_type": "code",
   "execution_count": 9,
   "metadata": {},
   "outputs": [
    {
     "name": "stdout",
     "output_type": "stream",
     "text": [
      "[]\n",
      "[1]\n"
     ]
    }
   ],
   "source": [
    "somelist = []\n",
    "s = somelist[-0:]\n",
    "s.append(1)\n",
    "print(somelist)\n",
    "print(s)\n",
    "# 리스트의 복사본을 만든다?"
   ]
  },
  {
   "cell_type": "markdown",
   "metadata": {},
   "source": [
    "- 슬라이싱의 결과는 완전히 새로운 리스트\n",
    "    - 원본 리스트에 들어있는 객체에 대한 참조는 유지\n",
    "    - 하지만 슬라이스한 결과를 수정해도 원본리스트에 아무런 영향을 미치지 않는다"
   ]
  },
  {
   "cell_type": "code",
   "execution_count": 11,
   "metadata": {},
   "outputs": [
    {
     "name": "stdout",
     "output_type": "stream",
     "text": [
      "Before:     ['e', 'f', 'g', 'h']\n",
      "After:      ['e', 99, 'g', 'h']\n",
      "No Change:  ['a', 'b', 'c', 'd', 'e', 'f', 'g', 'h']\n"
     ]
    }
   ],
   "source": [
    "b = a[4:]\n",
    "print('Before:    ', b)\n",
    "b[1] = 99\n",
    "print('After:     ', b)\n",
    "print('No Change: ', a)"
   ]
  },
  {
   "cell_type": "markdown",
   "metadata": {},
   "source": [
    "- 할당에 사용하면 슬라이스는 원본 리스트에서 지정한 범위를 대체\n",
    "    - a,b = c[:2] 같은 튜플 할당과 달리 슬라이스 할 길이는 달라도 된다.\n",
    "    - 할당 받은 슬라이스의 앞뒤 값은 유지\n",
    "    - 리스트는 새로 들어온 값에 맞춰 늘어나거나 줄어듦"
   ]
  },
  {
   "cell_type": "code",
   "execution_count": 12,
   "metadata": {},
   "outputs": [
    {
     "name": "stdout",
     "output_type": "stream",
     "text": [
      "Before  ['a', 'b', 'c', 'd', 'e', 'f', 'g', 'h']\n",
      "After   ['a', 'b', 99, 22, 14, 'h']\n"
     ]
    }
   ],
   "source": [
    "print('Before ', a)\n",
    "a[2:7] = [99, 22, 14]\n",
    "print('After  ', a)\n",
    "\n",
    "# h 가 살아 있는 이유?"
   ]
  },
  {
   "cell_type": "markdown",
   "metadata": {},
   "source": [
    "시작과 끝 인덱스를 모두 생략하고 슬라이스 하면 원본 리스트의 복사본을 얻는다"
   ]
  },
  {
   "cell_type": "code",
   "execution_count": 13,
   "metadata": {},
   "outputs": [],
   "source": [
    "b = a[:]\n",
    "assert b == a and b is not a"
   ]
  },
  {
   "cell_type": "markdown",
   "metadata": {},
   "source": [
    "새 리스트를 할당하지 않고 슬라이스 시작과 끝 인덱스를 지정하지 않고 할당하면 슬라이스의 전체 내용을 참조 대상의 복사본으로 대체"
   ]
  },
  {
   "cell_type": "code",
   "execution_count": 15,
   "metadata": {},
   "outputs": [
    {
     "name": "stdout",
     "output_type": "stream",
     "text": [
      "Before [101, 102, 103]\n",
      "After [101, 102, 103]\n",
      "[101, 102, 103]\n"
     ]
    }
   ],
   "source": [
    "b = a\n",
    "print('Before', a)\n",
    "a[:] = [101, 102, 103]\n",
    "assert a is b # 여전히 같은 리스트 객체임\n",
    "print('After', a) # 이제 다른 내용을 담음\n",
    "print(b)"
   ]
  },
  {
   "cell_type": "code",
   "execution_count": null,
   "metadata": {},
   "outputs": [],
   "source": []
  }
 ],
 "metadata": {
  "kernelspec": {
   "display_name": "Python 3",
   "language": "python",
   "name": "python3"
  },
  "language_info": {
   "codemirror_mode": {
    "name": "ipython",
    "version": 3
   },
   "file_extension": ".py",
   "mimetype": "text/x-python",
   "name": "python",
   "nbconvert_exporter": "python",
   "pygments_lexer": "ipython3",
   "version": "3.7.4"
  }
 },
 "nbformat": 4,
 "nbformat_minor": 2
}
