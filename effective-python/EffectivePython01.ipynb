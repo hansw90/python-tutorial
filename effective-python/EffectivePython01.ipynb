{
 "cells": [
  {
   "cell_type": "markdown",
   "metadata": {},
   "source": [
    "# Effective Python - 1. 사용 중인 파이썬의 버전을 알자\n",
    "\n",
    "### 1. 사용중인 파이썬의 버전을 알자  \n",
    "- 명령어 창(cmd)에 $python --version 플래그를 사용하여 버전을 확인하자"
   ]
  },
  {
   "cell_type": "code",
   "execution_count": 3,
   "metadata": {},
   "outputs": [
    {
     "name": "stdout",
     "output_type": "stream",
     "text": [
      "sys.version_info(major=3, minor=7, micro=4, releaselevel='final', serial=0)\n",
      "3.7.4 (default, Aug  9 2019, 18:34:13) [MSC v.1915 64 bit (AMD64)]\n"
     ]
    }
   ],
   "source": [
    "# 파이썬에 내장된 sys 모듈을 이용하여 파이썬의 버전을 알아낼 수도 있음\n",
    "\n",
    "import sys\n",
    "print(sys.version_info)\n",
    "print(sys.version)"
   ]
  },
  {
   "cell_type": "markdown",
   "metadata": {},
   "source": [
    "- 파이썬 2와 3 모두 커뮤니티에서 유지보수 되는중입니다\n",
    "    - 파이썬 2의 개발은 버그 수정, 보안 강화, 2를 3으로 쉽게 포팅하는 기능 이외에는 중지됨\n",
    "    - 2to3 ,six 와 같은 module 을 사용하면 파이썬 3와 호환이 쉬워집니다\n",
    "\n",
    "- 파이썬 3는 새 기능과 향상이 지속적으로 이루어집니다\n",
    "- 새로운 프로젝트를 실행"
   ]
  },
  {
   "cell_type": "code",
   "execution_count": null,
   "metadata": {},
   "outputs": [],
   "source": []
  }
 ],
 "metadata": {
  "kernelspec": {
   "display_name": "Python 3",
   "language": "python",
   "name": "python3"
  },
  "language_info": {
   "codemirror_mode": {
    "name": "ipython",
    "version": 3
   },
   "file_extension": ".py",
   "mimetype": "text/x-python",
   "name": "python",
   "nbconvert_exporter": "python",
   "pygments_lexer": "ipython3",
   "version": "3.7.4"
  }
 },
 "nbformat": 4,
 "nbformat_minor": 2
}
